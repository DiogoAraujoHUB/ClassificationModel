{
 "cells": [
  {
   "cell_type": "markdown",
   "id": "bb8f73f5",
   "metadata": {},
   "source": [
    "# Projeto de AI (Parte 2)\n",
    "\n",
    "## Feito pela equipa \"Ice Cold Pythons\":\n",
    "### 1. Diogo Araújo - a21905661 \n",
    "### 2. Claudio Caetano - a21902813"
   ]
  },
  {
   "cell_type": "markdown",
   "id": "b6b4820d",
   "metadata": {},
   "source": [
    "## How to check if model is correct:\n",
    "\n",
    "### R^2\n",
    "R^2 tells us how much the predicted data explains the actual data. In other words, it represents the strength of the fit. However, it does not say anything about the model itself — it does not tell you if the model is good, whether the data you’ve chosen is biased, or even if you’ve chosen the correct modelling method. <br>\n",
    "\n",
    "The R² value ranges from 0 to 1, with higher values denoting a strong fit, and lower values denoting a weak fit. Anything below 0.5 is a bad fit, while anything above 0.8 is a good fit. <br>\n",
    "\n",
    "Strength of fit means that, on average, your predicted values do not deviate much from your actual data. The examples below will illustrate this. <br>\n",
    "\n",
    "### MAE (Mean Absolute Error)\n",
    "The MAE is the sum of all the error magnitudes divided by the number of points, so essentially the average error. Therefore, the lower the MAE, the less error in your model. <br>\n",
    "\n",
    "### Mean Squared Error (MSE)\n",
    "The MSE is the sum of the squares of all errors divided by the number of points. Note that, since in each instance the error is actually squared, it cannot be directly compared to the MAE, because it will always be of a higher order. Thus, as with MAE, the lower the MSE, the less error in the model. <br>\n",
    "\n",
    "### Root Mean Squared Error (RMSE)\n",
    "RMSE is the square root of the MSE. This is in a way a more useful metric, and now since both MAE and RMSE have the same ‘order’ of error, they can be compared with each other. As with both MAE and MSE, lower MSAE → lower error. <br>"
   ]
  },
  {
   "cell_type": "markdown",
   "id": "eb65b9be",
   "metadata": {},
   "source": [
    "## Examples of Models (Code)\n",
    "Testing multiple models to check which one works best with student dataset. <br>\n",
    "In the final code the model we used was not one of these, however this did help during the search. <br>\n",
    "\n",
    "### Linear Regression (OLS)\n",
    "\n",
    "#Create model <br>\n",
    "model = LinearRegression(positive = True) <br>\n",
    "\n",
    "#Train the model using the training data <br>\n",
    "model.fit(train_x, train_y) <br>\n",
    "\n",
    "#Make predictions using the training data <br>\n",
    "train_predictions = model.predict(test_x) <br>\n",
    "\n",
    "### Ridge\n",
    "\n",
    "#Create model <br>\n",
    "model = Ridge(alpha = 6) <br>\n",
    "\n",
    "### Lasso\n",
    "\n",
    "#Create model <br>\n",
    "model = Lasso(alpha = 0.05) <br>\n",
    "\n",
    "### Huber Regression\n",
    "Huber Regression doesnt check the outlier values (in this case the ones with G3 equal to 0) so its usage was extremely limited. <br> \n",
    "\n",
    "#Create model <br>\n",
    "model = HuberRegressor() <br>"
   ]
  },
  {
   "cell_type": "markdown",
   "id": "f26d9033",
   "metadata": {},
   "source": [
    "## Additional Functions\n",
    "Created a few additional functions that were added to the project in hopes of making the end result better. <br>\n",
    "Most of these were, however, not used in the final code. <br>"
   ]
  },
  {
   "cell_type": "markdown",
   "id": "51115e04",
   "metadata": {},
   "source": [
    "### Outlier Removal\n",
    "Removed all the outlier values, in this case the ones where G3 equals 0, from the dataframe. <br>"
   ]
  },
  {
   "cell_type": "code",
   "execution_count": 1,
   "id": "aaa30996",
   "metadata": {},
   "outputs": [],
   "source": [
    "def outlier_removal(dataframe): \n",
    "    #Remove all columns where grade is 0 \n",
    "    dataframe = dataframe[dataframe[\"G3\"] != 0]\n",
    "    \n",
    "    #Return removed dataframe\n",
    "    return dataframe"
   ]
  },
  {
   "cell_type": "markdown",
   "id": "9c3451a6",
   "metadata": {},
   "source": [
    "### Label Encoding\n",
    "No need for label encoding as all features in this dataframe are numerical in value. <br>\n",
    "\n",
    "One hot encoding has already been used in the datasets given by the teachers, therefore Feature Engineering is useless in this case. <br>"
   ]
  },
  {
   "cell_type": "markdown",
   "id": "86da9d5c",
   "metadata": {},
   "source": [
    "### Feature Selection\n",
    "Select the best dataset values (lines), from the dataset, to train. <br>\n",
    "This was never fully implemented as initial tests showed that this was simply a bad idea. <br>"
   ]
  },
  {
   "cell_type": "code",
   "execution_count": 2,
   "id": "4738d440",
   "metadata": {},
   "outputs": [],
   "source": [
    "def feature_selection(x): \n",
    "    #learn relationship from training data \n",
    "    X_new = SelectKBest(chi2, k = 2)\n",
    "\n",
    "    #Transform fit \n",
    "    fit_transform(x, y)\n",
    "\n",
    "    #Transform test input data\n",
    "    test_x_fs = f_selector.transform(test_x) \n",
    "\n",
    "    return train_x_fs, test_x_fs, submit_x_fs"
   ]
  },
  {
   "cell_type": "markdown",
   "id": "4302ddd9",
   "metadata": {},
   "source": [
    "### Correlation\n",
    "Get the correlation between the dataset columns to the column we are trying to predict, aka G3. <br>\n",
    "Also used to get the features that are most correlated to the column we are trying to predict, aka G3. <br>"
   ]
  },
  {
   "cell_type": "code",
   "execution_count": 3,
   "id": "0329ec89",
   "metadata": {},
   "outputs": [],
   "source": [
    "def correlation(dataframe):\n",
    "    #Correlation between data on dataframe\n",
    "    correlation = dataframe.corr()\n",
    "    \n",
    "    #Show values based on G3 (of correlation)\n",
    "    display(correlation[\"G3\"].sort_values())\n",
    "    \n",
    "def get_features(dataframe):\n",
    "    #Find correlations with G3\n",
    "    correlation = dataframe.corr()\n",
    "    \n",
    "    #Get most correlated features\n",
    "    features = correlation.abs()['G3'].sort_values(ascending=False)\n",
    "\n",
    "    #Get most correlated features\n",
    "    features = features[:13]\n",
    "    \n",
    "    #Turn features into array\n",
    "    features = features.index.values\n",
    "    \n",
    "    #Remove G3 from features\n",
    "    features = np.delete(features, 0)\n",
    "    \n",
    "    #Return features\n",
    "    return features"
   ]
  },
  {
   "cell_type": "markdown",
   "id": "b0846794",
   "metadata": {},
   "source": [
    "### Plotting (Data Analysis)\n",
    "Created a few functions to use during data analysis, be it of the dataframe or of its columns. <br>"
   ]
  },
  {
   "cell_type": "code",
   "execution_count": 19,
   "id": "74e2c7c8",
   "metadata": {},
   "outputs": [],
   "source": [
    "#Check G3 values\n",
    "def grade_visualization(dataframe):\n",
    "    #Describe grade\n",
    "    print(\"Checking grade values (G3)\")\n",
    "    display(dataframe['G3'].describe())\n",
    "    \n",
    "    #Show distribution of grade\n",
    "    plot = sns.countplot(dataframe['G3'])\n",
    "    plot.axes.set_title(\"Distribution of G3 (Grade)\")\n",
    "    plot.set_xlabel(\"G3 (Grade)\")\n",
    "    plot.set_ylabel(\"Student Count\")\n",
    "    plt.show()\n",
    "    \n",
    "#Plot variable when compared to dataframe\n",
    "def plot_variable(dataframe, x_values, y_values, plot_variable):\n",
    "    # Plot the dataset\n",
    "    plt.scatter(x = plot_variable, y = \"G3\", data = dataframe, color='black', s=100)\n",
    "\n",
    "    # Plot the line\n",
    "    plt.plot(x_values[plot_variable], y_values, color='red', linewidth=1)\n",
    "\n",
    "    # Label plot and set limits\n",
    "    plt.ylabel(\"G3 (Grade)\")\n",
    "    plt.xlabel(plot_variable)\n",
    "    plt.ylim(0, 20)\n",
    "\n",
    "    # Show the plot\n",
    "    plt.show()\n",
    "        \n",
    "#New method of plotting variable when compared to G3\n",
    "def plot_variable_diff(x_values, y_values, plot_variable):\n",
    "    sns.lineplot(y = y_values, x = x_values[plot_variable])"
   ]
  },
  {
   "cell_type": "markdown",
   "id": "035bba36",
   "metadata": {},
   "source": [
    "### Backward Elimination\n",
    "Gets the best columns to use to train the model. <br>"
   ]
  },
  {
   "cell_type": "code",
   "execution_count": 5,
   "id": "e130c4ef",
   "metadata": {},
   "outputs": [],
   "source": [
    "def backward_elimination(dataframe):\n",
    "    columns_used = ['studytime', 'failures', 'Walc', 'school_GP', 'sex_F', 'sex_M', 'address_R',\n",
    "       'address_U', 'famsize_GT3', 'famsize_LE3', 'Pstatus_A', 'Pstatus_T', 'schoolsup_no',\n",
    "       'famsup_no', 'famsup_yes', 'paid_no', 'paid_yes', 'activities_no', 'activities_yes', \n",
    "       'nursery_no', 'nursery_yes', 'higher_yes', 'internet_no', 'internet_yes', 'romantic_no', 'romantic_yes']\n",
    "    \n",
    "    x = dataframe[columns_used]\n",
    "    y = dataframe[[\"G3\"]]\n",
    "    \n",
    "    #Significance value\n",
    "    p_value = 0.05\n",
    "    \n",
    "    #Get model based on LinearRegression\n",
    "    ols = sm.OLS(endog = y, exog = x).fit()\n",
    "\n",
    "    #Get summary of fit\n",
    "    display(ols.summary())\n",
    "    display(ols)\n",
    "    \n",
    "#Run function in this tab\n",
    "#backward_elimination(df_train)"
   ]
  },
  {
   "cell_type": "markdown",
   "id": "7f037058",
   "metadata": {},
   "source": [
    "### Feature Engineering\n",
    "(Turns it back to before One-Hot encoding) <br>\n",
    "\n",
    "As explained in the previous section of Label Encoding, feature engineering only makes it worse as we are bringing it to before One-Hot encoding was applied to the Dataframe. <br>"
   ]
  },
  {
   "cell_type": "code",
   "execution_count": 6,
   "id": "ac06f90d",
   "metadata": {},
   "outputs": [],
   "source": [
    "def feature_engineering(dataframe):\n",
    "    #Sum columns\n",
    "    dataframe[\"school\"] = dataframe[\"school_GP\"] * 0 + dataframe[\"school_MS\"]\n",
    "    dataframe[\"sex\"] = dataframe[\"sex_F\"] * 0 + dataframe[\"sex_M\"]\n",
    "    dataframe[\"address\"] = dataframe[\"address_R\"] * 0 + dataframe[\"address_U\"]\n",
    "    dataframe[\"famsize\"] = dataframe[\"famsize_GT3\"] * 0 + dataframe[\"famsize_LE3\"]\n",
    "    dataframe[\"Pstatus\"] = dataframe[\"Pstatus_A\"] * 0 + dataframe[\"Pstatus_T\"]\n",
    "    dataframe[\"Mjob\"] = dataframe[\"Mjob_at_home\"] * 0 + dataframe[\"Mjob_health\"] + dataframe[\"Mjob_other\"] * 2 + dataframe[\"Mjob_services\"] * 3 + dataframe[\"Mjob_teacher\"] * 4\n",
    "    dataframe[\"Fjob\"] = dataframe[\"Fjob_at_home\"] * 0 + dataframe[\"Fjob_health\"] + dataframe[\"Fjob_other\"] * 2 + dataframe[\"Fjob_services\"] * 3 + dataframe[\"Fjob_teacher\"] * 4\n",
    "    dataframe[\"reason\"] = dataframe[\"reason_course\"] * 0 + dataframe[\"reason_home\"] + dataframe[\"reason_other\"] * 2 + dataframe[\"reason_reputation\"] * 3\n",
    "    dataframe[\"guardian\"] = dataframe[\"guardian_father\"] * 0 + dataframe[\"guardian_mother\"] + dataframe[\"guardian_other\"] * 2\n",
    "    dataframe[\"schoolsup\"] = dataframe[\"schoolsup_no\"] * 0 + dataframe[\"schoolsup_yes\"]\n",
    "    dataframe[\"famsup\"] = dataframe[\"famsup_no\"] * 0 + dataframe[\"famsup_yes\"]\n",
    "    dataframe[\"paid\"] = dataframe[\"paid_no\"] * 0 + dataframe[\"paid_yes\"]\n",
    "    dataframe[\"activities\"] = dataframe[\"activities_no\"] * 0 + dataframe[\"activities_yes\"]\n",
    "    dataframe[\"nursery\"] = dataframe[\"nursery_no\"] * 0 + dataframe[\"nursery_yes\"]\n",
    "    dataframe[\"higher\"] = dataframe[\"higher_no\"] * 0 + dataframe[\"higher_yes\"]\n",
    "    dataframe[\"internet\"] = dataframe[\"internet_no\"] * 0 + dataframe[\"internet_yes\"]\n",
    "    dataframe[\"romantic\"] = dataframe[\"romantic_no\"] * 0 + dataframe[\"romantic_yes\"]\n",
    "\n",
    "    #Delete columns\n",
    "    del dataframe[\"school_GP\"]\n",
    "    del dataframe[\"school_MS\"]\n",
    "    del dataframe[\"sex_F\"]\n",
    "    del dataframe[\"sex_M\"]\n",
    "    del dataframe[\"address_R\"]\n",
    "    del dataframe[\"address_U\"]\n",
    "    del dataframe[\"famsize_GT3\"]\n",
    "    del dataframe[\"famsize_LE3\"]\n",
    "    del dataframe[\"Pstatus_A\"]\n",
    "    del dataframe[\"Pstatus_T\"]\n",
    "    del dataframe[\"Mjob_at_home\"]\n",
    "    del dataframe[\"Mjob_health\"] \n",
    "    del dataframe[\"Mjob_other\"] \n",
    "    del dataframe[\"Mjob_services\"] \n",
    "    del dataframe[\"Mjob_teacher\"]    \n",
    "    del dataframe[\"Fjob_at_home\"] \n",
    "    del dataframe[\"Fjob_health\"] \n",
    "    del dataframe[\"Fjob_other\"] \n",
    "    del dataframe[\"Fjob_services\"] \n",
    "    del dataframe[\"Fjob_teacher\"]\n",
    "    del dataframe[\"reason_course\"] \n",
    "    del dataframe[\"reason_home\"] \n",
    "    del dataframe[\"reason_other\"] \n",
    "    del dataframe[\"reason_reputation\"]\n",
    "    del dataframe[\"guardian_father\"]\n",
    "    del dataframe[\"guardian_mother\"] \n",
    "    del dataframe[\"guardian_other\"]\n",
    "    del dataframe[\"schoolsup_no\"] \n",
    "    del dataframe[\"schoolsup_yes\"]\n",
    "    del dataframe[\"famsup_no\"] \n",
    "    del dataframe[\"famsup_yes\"]\n",
    "    del dataframe[\"paid_no\"] \n",
    "    del dataframe[\"paid_yes\"]\n",
    "    del dataframe[\"activities_no\"] \n",
    "    del dataframe[\"activities_yes\"]\n",
    "    del dataframe[\"nursery_no\"] \n",
    "    del dataframe[\"nursery_yes\"]\n",
    "    del dataframe[\"higher_no\"] \n",
    "    del dataframe[\"higher_yes\"]\n",
    "    del dataframe[\"internet_no\"] \n",
    "    del dataframe[\"internet_yes\"]\n",
    "    del dataframe[\"romantic_no\"] \n",
    "    del dataframe[\"romantic_yes\"]\n",
    "    \n",
    "    #Return smaller dataframe\n",
    "    return dataframe"
   ]
  },
  {
   "cell_type": "markdown",
   "id": "d92967ba",
   "metadata": {},
   "source": [
    "## Solution\n",
    "Final solution used to submit the predictions. <br>"
   ]
  },
  {
   "cell_type": "markdown",
   "id": "5d662aad",
   "metadata": {},
   "source": [
    "### Import Libraries"
   ]
  },
  {
   "cell_type": "code",
   "execution_count": 32,
   "id": "8c2a88cc",
   "metadata": {},
   "outputs": [],
   "source": [
    "#Import basic libraries\n",
    "import matplotlib.pyplot as plt\n",
    "import numpy as np\n",
    "import pandas as pd\n",
    "import math\n",
    "import seaborn as sns\n",
    "\n",
    "#Import model libraries\n",
    "from sklearn.model_selection import train_test_split\n",
    "from sklearn.feature_selection import SelectKBest, mutual_info_regression, f_regression\n",
    "from sklearn.linear_model import LinearRegression, Ridge, Lasso, ElasticNet\n",
    "from sklearn.metrics import r2_score, mean_absolute_error, mean_squared_error\n",
    "from sklearn.ensemble import RandomForestRegressor\n",
    "\n",
    "#Used in Backward Elimination\n",
    "import statsmodels.api as sm"
   ]
  },
  {
   "cell_type": "markdown",
   "id": "072f6830",
   "metadata": {},
   "source": [
    "### Get Dataset"
   ]
  },
  {
   "cell_type": "code",
   "execution_count": 33,
   "id": "501bb073",
   "metadata": {},
   "outputs": [],
   "source": [
    "#Get training dataframe from .csv file (for training and testing)\n",
    "df_train = pd.read_csv('student_data.csv')\n",
    "\n",
    "#Get submission dataframe from .csv file (for submission)\n",
    "df_submit = pd.read_csv('test_data.csv')"
   ]
  },
  {
   "cell_type": "markdown",
   "id": "10dc06fd",
   "metadata": {},
   "source": [
    "### Data Analysis (Dataframe)"
   ]
  },
  {
   "cell_type": "code",
   "execution_count": 34,
   "id": "3e840db8",
   "metadata": {},
   "outputs": [
    {
     "name": "stdout",
     "output_type": "stream",
     "text": [
      "Checking grade values (G3)\n"
     ]
    },
    {
     "data": {
      "text/plain": [
       "count    545.000000\n",
       "mean      11.939450\n",
       "std        3.170696\n",
       "min        0.000000\n",
       "25%       10.000000\n",
       "50%       12.000000\n",
       "75%       14.000000\n",
       "max       18.000000\n",
       "Name: G3, dtype: float64"
      ]
     },
     "metadata": {},
     "output_type": "display_data"
    },
    {
     "name": "stderr",
     "output_type": "stream",
     "text": [
      "C:\\Users\\diodo\\anaconda3\\envs\\ai_env\\lib\\site-packages\\seaborn\\_decorators.py:43: FutureWarning: Pass the following variable as a keyword arg: x. From version 0.12, the only valid positional argument will be `data`, and passing other arguments without an explicit keyword will result in an error or misinterpretation.\n",
      "  FutureWarning\n"
     ]
    },
    {
     "data": {
      "image/png": "[encoded data removed]",
      "text/plain": [
       "<Figure size 432x288 with 1 Axes>"
      ]
     },
     "metadata": {
      "needs_background": "light"
     },
     "output_type": "display_data"
    }
   ],
   "source": [
    "#Show data visualization comparing to G3 column\n",
    "grade_visualization(df_train)"
   ]
  },
  {
   "cell_type": "markdown",
   "id": "7077c2ad",
   "metadata": {},
   "source": [
    "### Training and Testing values"
   ]
  },
  {
   "cell_type": "code",
   "execution_count": 35,
   "id": "34176cb0",
   "metadata": {},
   "outputs": [],
   "source": [
    "#Get columns we will be using for filter (based on backward elimination)\n",
    "columns_used = [\"failures\", \"absences\", \"Medu\", \"Fedu\", \"traveltime\", \"Dalc\", \"sex_F\",\n",
    "               \"address_R\", \"famsize_LE3\", \"Pstatus_T\", \"famsup_yes\", \"paid_yes\"]\n",
    "\n",
    "#Load training data\n",
    "x = df_train[columns_used]\n",
    "y = df_train[[\"G3\"]]\n",
    "\n",
    "#Apply feature selection to data\n",
    "#x = feature_selection(x)\n",
    "\n",
    "#Load training and testing variables\n",
    "train_x, test_x, train_y, test_y = train_test_split(x, y, test_size = 0.30, random_state = 105)\n",
    "\n",
    "#Use to check for outliers\n",
    "#display(x.loc[x['index'] == 0])\n",
    "\n",
    "#Load submission data (x)\n",
    "submit_x = df_submit[columns_used]"
   ]
  },
  {
   "cell_type": "markdown",
   "id": "ef38de28",
   "metadata": {},
   "source": [
    "### Model "
   ]
  },
  {
   "cell_type": "code",
   "execution_count": 36,
   "id": "c05be375",
   "metadata": {},
   "outputs": [
    {
     "name": "stdout",
     "output_type": "stream",
     "text": [
      "MAE:  1.9117938808640504\n",
      "RMSE:  2.5626502157903226\n",
      "R^2:  0.3717248265897213\n"
     ]
    }
   ],
   "source": [
    "#Create model\n",
    "model = RandomForestRegressor(n_estimators = 280, max_features = \"sqrt\", max_depth = 7, random_state = 18)\n",
    "\n",
    "#Train the model using the training data\n",
    "model.fit(train_x, np.ravel(train_y))\n",
    "\n",
    "#Make predictions using the x data\n",
    "train_predictions = model.predict(test_x)\n",
    "\n",
    "#Metrics to evaluate model\n",
    "print(\"MAE: \", mean_absolute_error(test_y, train_predictions))\n",
    "print(\"RMSE: \", mean_squared_error(test_y, train_predictions, squared = False))\n",
    "print(\"R^2: \", r2_score(test_y, train_predictions))"
   ]
  },
  {
   "cell_type": "markdown",
   "id": "50e26af8",
   "metadata": {},
   "source": [
    "### Data Analysis (Columns)"
   ]
  },
  {
   "cell_type": "code",
   "execution_count": 37,
   "id": "43e67c80",
   "metadata": {},
   "outputs": [
    {
     "data": {
      "image/png": "[encoded data removed]",
      "text/plain": [
       "<Figure size 432x288 with 1 Axes>"
      ]
     },
     "metadata": {
      "needs_background": "light"
     },
     "output_type": "display_data"
    },
    {
     "data": {
      "image/png": "[encoded data removed]",
      "text/plain": [
       "<Figure size 432x288 with 1 Axes>"
      ]
     },
     "metadata": {
      "needs_background": "light"
     },
     "output_type": "display_data"
    }
   ],
   "source": [
    "#Plot analysis between G3 and Failures \n",
    "plot_variable(df_train, test_x, train_predictions, \"failures\")\n",
    "\n",
    "#Other method of analysis\n",
    "plot_variable_diff(test_x, train_predictions, \"failures\")"
   ]
  },
  {
   "cell_type": "markdown",
   "id": "be742281",
   "metadata": {},
   "source": [
    "### Submission"
   ]
  },
  {
   "cell_type": "code",
   "execution_count": 38,
   "id": "f1f02cfb",
   "metadata": {},
   "outputs": [
    {
     "data": {
      "text/html": [
       "<div>\n",
       "<style scoped>\n",
       "    .dataframe tbody tr th:only-of-type {\n",
       "        vertical-align: middle;\n",
       "    }\n",
       "\n",
       "    .dataframe tbody tr th {\n",
       "        vertical-align: top;\n",
       "    }\n",
       "\n",
       "    .dataframe thead th {\n",
       "        text-align: right;\n",
       "    }\n",
       "</style>\n",
       "<table border=\"1\" class=\"dataframe\">\n",
       "  <thead>\n",
       "    <tr style=\"text-align: right;\">\n",
       "      <th></th>\n",
       "      <th>index</th>\n",
       "      <th>G3</th>\n",
       "    </tr>\n",
       "  </thead>\n",
       "  <tbody>\n",
       "    <tr>\n",
       "      <th>0</th>\n",
       "      <td>0</td>\n",
       "      <td>11.672692</td>\n",
       "    </tr>\n",
       "    <tr>\n",
       "      <th>1</th>\n",
       "      <td>1</td>\n",
       "      <td>12.921231</td>\n",
       "    </tr>\n",
       "    <tr>\n",
       "      <th>2</th>\n",
       "      <td>2</td>\n",
       "      <td>9.101936</td>\n",
       "    </tr>\n",
       "    <tr>\n",
       "      <th>3</th>\n",
       "      <td>3</td>\n",
       "      <td>11.945157</td>\n",
       "    </tr>\n",
       "    <tr>\n",
       "      <th>4</th>\n",
       "      <td>4</td>\n",
       "      <td>12.142876</td>\n",
       "    </tr>\n",
       "    <tr>\n",
       "      <th>...</th>\n",
       "      <td>...</td>\n",
       "      <td>...</td>\n",
       "    </tr>\n",
       "    <tr>\n",
       "      <th>99</th>\n",
       "      <td>99</td>\n",
       "      <td>8.715681</td>\n",
       "    </tr>\n",
       "    <tr>\n",
       "      <th>100</th>\n",
       "      <td>100</td>\n",
       "      <td>7.326093</td>\n",
       "    </tr>\n",
       "    <tr>\n",
       "      <th>101</th>\n",
       "      <td>101</td>\n",
       "      <td>11.787021</td>\n",
       "    </tr>\n",
       "    <tr>\n",
       "      <th>102</th>\n",
       "      <td>102</td>\n",
       "      <td>11.950332</td>\n",
       "    </tr>\n",
       "    <tr>\n",
       "      <th>103</th>\n",
       "      <td>103</td>\n",
       "      <td>13.728993</td>\n",
       "    </tr>\n",
       "  </tbody>\n",
       "</table>\n",
       "<p>104 rows × 2 columns</p>\n",
       "</div>"
      ],
      "text/plain": [
       "     index         G3\n",
       "0        0  11.672692\n",
       "1        1  12.921231\n",
       "2        2   9.101936\n",
       "3        3  11.945157\n",
       "4        4  12.142876\n",
       "..     ...        ...\n",
       "99      99   8.715681\n",
       "100    100   7.326093\n",
       "101    101  11.787021\n",
       "102    102  11.950332\n",
       "103    103  13.728993\n",
       "\n",
       "[104 rows x 2 columns]"
      ]
     },
     "metadata": {},
     "output_type": "display_data"
    }
   ],
   "source": [
    "#Make predictions using the submission data\n",
    "predictions = model.predict(submit_x)\n",
    "\n",
    "#Create dataframe for submission\n",
    "rows = [[i, float(predictions[i])] for i in range(0, predictions.size)]\n",
    "submission = pd.DataFrame(rows, columns=[\"index\", \"G3\"])\n",
    "\n",
    "#Display submission dataframe\n",
    "display(submission)\n",
    "\n",
    "#Pass dataframe to .csv for submission in kaggle\n",
    "submission.to_csv('submission.csv', index=False)"
   ]
  }
 ],
 "metadata": {
  "kernelspec": {
   "display_name": "Python 3",
   "language": "python",
   "name": "python3"
  },
  "language_info": {
   "codemirror_mode": {
    "name": "ipython",
    "version": 3
   },
   "file_extension": ".py",
   "mimetype": "text/x-python",
   "name": "python",
   "nbconvert_exporter": "python",
   "pygments_lexer": "ipython3",
   "version": "3.8.8"
  },
  "toc": {
   "base_numbering": 1,
   "nav_menu": {},
   "number_sections": false,
   "sideBar": true,
   "skip_h1_title": false,
   "title_cell": "Table of Contents",
   "title_sidebar": "Contents",
   "toc_cell": false,
   "toc_position": {},
   "toc_section_display": true,
   "toc_window_display": true
  },
  "varInspector": {
   "cols": {
    "lenName": 16,
    "lenType": 16,
    "lenVar": 40
   },
   "kernels_config": {
    "python": {
     "delete_cmd_postfix": "",
     "delete_cmd_prefix": "del ",
     "library": "var_list.py",
     "varRefreshCmd": "print(var_dic_list())"
    },
    "r": {
     "delete_cmd_postfix": ") ",
     "delete_cmd_prefix": "rm(",
     "library": "var_list.r",
     "varRefreshCmd": "cat(var_dic_list()) "
    }
   },
   "types_to_exclude": [
    "module",
    "function",
    "builtin_function_or_method",
    "instance",
    "_Feature"
   ],
   "window_display": false
  }
 },
 "nbformat": 4,
 "nbformat_minor": 5
}
